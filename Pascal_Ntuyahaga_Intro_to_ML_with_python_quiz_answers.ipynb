{
 "cells": [
  {
   "cell_type": "code",
   "execution_count": 3,
   "metadata": {},
   "outputs": [
    {
     "name": "stdout",
     "output_type": "stream",
     "text": [
      "[1, 2, 3, 4, 5, 6, 7, 8]\n"
     ]
    }
   ],
   "source": [
    "#Question1\n",
    "A =[1, 2, 3, 4, 5]\n",
    "B = [6, 7, 8]\n",
    "A.extend(B)\n",
    "print(A)"
   ]
  },
  {
   "cell_type": "code",
   "execution_count": 17,
   "metadata": {},
   "outputs": [
    {
     "name": "stdout",
     "output_type": "stream",
     "text": [
      "[[1. 0. 0.]\n",
      " [0. 1. 0.]\n",
      " [0. 0. 1.]]\n"
     ]
    }
   ],
   "source": [
    "#Question2\n",
    "import numpy as np\n",
    "I = np.identity(3)\n",
    "print(I)"
   ]
  },
  {
   "cell_type": "code",
   "execution_count": 18,
   "metadata": {},
   "outputs": [
    {
     "data": {
      "text/html": [
       "<div>\n",
       "<style scoped>\n",
       "    .dataframe tbody tr th:only-of-type {\n",
       "        vertical-align: middle;\n",
       "    }\n",
       "\n",
       "    .dataframe tbody tr th {\n",
       "        vertical-align: top;\n",
       "    }\n",
       "\n",
       "    .dataframe thead th {\n",
       "        text-align: right;\n",
       "    }\n",
       "</style>\n",
       "<table border=\"1\" class=\"dataframe\">\n",
       "  <thead>\n",
       "    <tr style=\"text-align: right;\">\n",
       "      <th></th>\n",
       "      <th>record_id</th>\n",
       "      <th>utility_id_ferc1</th>\n",
       "      <th>report_year</th>\n",
       "      <th>plant_name_ferc1</th>\n",
       "      <th>fuel_type_code_pudl</th>\n",
       "      <th>fuel_unit</th>\n",
       "      <th>fuel_qty_burned</th>\n",
       "      <th>fuel_mmbtu_per_unit</th>\n",
       "      <th>fuel_cost_per_unit_burned</th>\n",
       "      <th>fuel_cost_per_unit_delivered</th>\n",
       "      <th>fuel_cost_per_mmbtu</th>\n",
       "    </tr>\n",
       "  </thead>\n",
       "  <tbody>\n",
       "    <tr>\n",
       "      <th>0</th>\n",
       "      <td>f1_fuel_1994_12_1_0_7</td>\n",
       "      <td>1</td>\n",
       "      <td>1994</td>\n",
       "      <td>rockport</td>\n",
       "      <td>coal</td>\n",
       "      <td>ton</td>\n",
       "      <td>5377489.0</td>\n",
       "      <td>16.590</td>\n",
       "      <td>18.59</td>\n",
       "      <td>18.53</td>\n",
       "      <td>1.121</td>\n",
       "    </tr>\n",
       "    <tr>\n",
       "      <th>1</th>\n",
       "      <td>f1_fuel_1994_12_1_0_10</td>\n",
       "      <td>1</td>\n",
       "      <td>1994</td>\n",
       "      <td>rockport total plant</td>\n",
       "      <td>coal</td>\n",
       "      <td>ton</td>\n",
       "      <td>10486945.0</td>\n",
       "      <td>16.592</td>\n",
       "      <td>18.58</td>\n",
       "      <td>18.53</td>\n",
       "      <td>1.120</td>\n",
       "    </tr>\n",
       "    <tr>\n",
       "      <th>2</th>\n",
       "      <td>f1_fuel_1994_12_2_0_1</td>\n",
       "      <td>2</td>\n",
       "      <td>1994</td>\n",
       "      <td>gorgas</td>\n",
       "      <td>coal</td>\n",
       "      <td>ton</td>\n",
       "      <td>2978683.0</td>\n",
       "      <td>24.130</td>\n",
       "      <td>39.72</td>\n",
       "      <td>38.12</td>\n",
       "      <td>1.650</td>\n",
       "    </tr>\n",
       "    <tr>\n",
       "      <th>3</th>\n",
       "      <td>f1_fuel_1994_12_2_0_7</td>\n",
       "      <td>2</td>\n",
       "      <td>1994</td>\n",
       "      <td>barry</td>\n",
       "      <td>coal</td>\n",
       "      <td>ton</td>\n",
       "      <td>3739484.0</td>\n",
       "      <td>23.950</td>\n",
       "      <td>47.21</td>\n",
       "      <td>45.99</td>\n",
       "      <td>1.970</td>\n",
       "    </tr>\n",
       "    <tr>\n",
       "      <th>4</th>\n",
       "      <td>f1_fuel_1994_12_2_0_10</td>\n",
       "      <td>2</td>\n",
       "      <td>1994</td>\n",
       "      <td>chickasaw</td>\n",
       "      <td>gas</td>\n",
       "      <td>mcf</td>\n",
       "      <td>40533.0</td>\n",
       "      <td>1.000</td>\n",
       "      <td>2.77</td>\n",
       "      <td>2.77</td>\n",
       "      <td>2.570</td>\n",
       "    </tr>\n",
       "  </tbody>\n",
       "</table>\n",
       "</div>"
      ],
      "text/plain": [
       "                record_id  utility_id_ferc1  report_year  \\\n",
       "0   f1_fuel_1994_12_1_0_7                 1         1994   \n",
       "1  f1_fuel_1994_12_1_0_10                 1         1994   \n",
       "2   f1_fuel_1994_12_2_0_1                 2         1994   \n",
       "3   f1_fuel_1994_12_2_0_7                 2         1994   \n",
       "4  f1_fuel_1994_12_2_0_10                 2         1994   \n",
       "\n",
       "       plant_name_ferc1 fuel_type_code_pudl fuel_unit  fuel_qty_burned  \\\n",
       "0              rockport                coal       ton        5377489.0   \n",
       "1  rockport total plant                coal       ton       10486945.0   \n",
       "2                gorgas                coal       ton        2978683.0   \n",
       "3                 barry                coal       ton        3739484.0   \n",
       "4             chickasaw                 gas       mcf          40533.0   \n",
       "\n",
       "   fuel_mmbtu_per_unit  fuel_cost_per_unit_burned  \\\n",
       "0               16.590                      18.59   \n",
       "1               16.592                      18.58   \n",
       "2               24.130                      39.72   \n",
       "3               23.950                      47.21   \n",
       "4                1.000                       2.77   \n",
       "\n",
       "   fuel_cost_per_unit_delivered  fuel_cost_per_mmbtu  \n",
       "0                         18.53                1.121  \n",
       "1                         18.53                1.120  \n",
       "2                         38.12                1.650  \n",
       "3                         45.99                1.970  \n",
       "4                          2.77                2.570  "
      ]
     },
     "execution_count": 18,
     "metadata": {},
     "output_type": "execute_result"
    }
   ],
   "source": [
    "#Question3\n",
    "import pandas as pd\n",
    "url = \"https://raw.githubusercontent.com/WalePhenomenon/climate_change/master/fuel_ferc1.csv\"\n",
    "fuel_data = pd.read_csv(url)\n",
    "fuel_data.head()"
   ]
  },
  {
   "cell_type": "code",
   "execution_count": 15,
   "metadata": {},
   "outputs": [
    {
     "name": "stdout",
     "output_type": "stream",
     "text": [
      "fuel_type_code_pudl\n",
      "gas    13.659397\n",
      "Name: fuel_cost_per_unit_burned, dtype: float64\n"
     ]
    }
   ],
   "source": [
    "#Question3\n",
    "import pandas as pd\n",
    "url = \"https://raw.githubusercontent.com/WalePhenomenon/climate_change/master/fuel_ferc1.csv\"\n",
    "fuel_data = pd.read_csv(url)\n",
    "Lowest_pdul = fuel_data.groupby(\"fuel_type_code_pudl\")[\"fuel_cost_per_unit_burned\"].mean()\n",
    "Lowest = Lowest_pdul.where(Lowest_pdul == Lowest_pdul.min()).dropna()\n",
    "print(Lowest )"
   ]
  },
  {
   "cell_type": "code",
   "execution_count": 29,
   "metadata": {},
   "outputs": [
    {
     "name": "stdout",
     "output_type": "stream",
     "text": [
      "std =  10.60\n",
      "75th_perc =  17.01\n"
     ]
    }
   ],
   "source": [
    "#Question4\n",
    "starnds = fuel_data[\"fuel_mmbtu_per_unit\"].std()\n",
    "_75th_perc= fuel_data[\"fuel_mmbtu_per_unit\"].quantile(0.75)\n",
    "\n",
    "print(\"std = \",\"{:.2f}\".format(starnds))\n",
    "print(\"75th_perc = \",\"{:.2f}\".format(_75th_perc))\n"
   ]
  },
  {
   "cell_type": "code",
   "execution_count": 30,
   "metadata": {},
   "outputs": [
    {
     "name": "stdout",
     "output_type": "stream",
     "text": [
      "skew =  15.85\n",
      "kurt =  651.37\n"
     ]
    }
   ],
   "source": [
    "#Question5\n",
    "skwness = fuel_data[\"fuel_qty_burned\"].skew()\n",
    "kurtosis = fuel_data[\"fuel_qty_burned\"].kurt()\n",
    "\n",
    "print(\"skew = \",\"{:.2f}\".format(skwness))\n",
    "print(\"kurt = \",\"{:.2f}\".format(kurtosis))"
   ]
  },
  {
   "cell_type": "code",
   "execution_count": 60,
   "metadata": {},
   "outputs": [
    {
     "name": "stdout",
     "output_type": "stream",
     "text": [
      "total missing values =  180.0\n",
      "percentage_of_missing_values =  0.610\n"
     ]
    }
   ],
   "source": [
    "#Question6&7\n",
    "missing_tot = fuel_data.isnull().sum()\n",
    "counts = fuel_data.count()[0]\n",
    "if counts > 0:\n",
    "    percent_missing = missing_tot* 100 / counts\n",
    "    print(\"total missing values = \" ,missing_tot.where(missing_tot>0).dropna().values[0])\n",
    "    print(\"percentage_of_missing_values = \",\"{:.3f}\".format(percent_missing.where(percent_missing>0).dropna().values[0]))\n",
    "else:\n",
    "    print(\"No Data\")\n"
   ]
  },
  {
   "cell_type": "code",
   "execution_count": 72,
   "metadata": {},
   "outputs": [
    {
     "data": {
      "text/plain": [
       "utility_id_ferc1                0.920774\n",
       "report_year                     1.005239\n",
       "fuel_qty_burned                 0.850576\n",
       "fuel_mmbtu_per_unit             0.716298\n",
       "fuel_cost_per_unit_burned       0.957737\n",
       "fuel_cost_per_unit_delivered    0.967851\n",
       "fuel_cost_per_mmbtu             1.008057\n",
       "dtype: float64"
      ]
     },
     "execution_count": 72,
     "metadata": {},
     "output_type": "execute_result"
    }
   ],
   "source": [
    "#Question8\n",
    "fuel_data.corr().sum()\n",
    "# fuel_mmbtu_per_unit             0.716298 and fuel_qty_burned                 0.850576 and "
   ]
  },
  {
   "cell_type": "code",
   "execution_count": 122,
   "metadata": {},
   "outputs": [
    {
     "name": "stdout",
     "output_type": "stream",
     "text": [
      "he percentage change in the fuel cost per unit burned in 1998 compared to 1994 =  0.53 %\n"
     ]
    }
   ],
   "source": [
    "#Question9\n",
    "fuel_data.groupby(['fuel_type_code_pudl','report_year'])['fuel_cost_per_unit_burned'].sum()\n",
    "group_fuel = fuel_data.groupby(['fuel_type_code_pudl','report_year'])['fuel_cost_per_unit_burned'].sum()\n",
    "_coal = group_fuel[\"coal\"]\n",
    "sum_coal = sum(_coal)\n",
    "percentage_1994 = _coal[1994]*100 / sum_coal\n",
    "percentage_1998 = _coal[1998]*100 / sum_coal\n",
    "change = abs(percentage_1994 - percentage_1998)\n",
    "print(\"he percentage change in the fuel cost per unit burned in 1998 compared to 1994 = \",\"{:.2f}\".format(change),\"%\")"
   ]
  },
  {
   "cell_type": "code",
   "execution_count": 103,
   "metadata": {},
   "outputs": [
    {
     "name": "stdout",
     "output_type": "stream",
     "text": [
      " Year has the highest average fuel cost per unit delivered is  1997\n"
     ]
    }
   ],
   "source": [
    "#Question10\n",
    "group = fuel_data.groupby('report_year')['fuel_cost_per_unit_delivered'].mean()\n",
    "the_highest_value = group.max()\n",
    "element = group.where(group == the_highest_value ).dropna()\n",
    "print(\" Year has the highest average fuel cost per unit delivered is \",element.index[0])"
   ]
  },
  {
   "cell_type": "code",
   "execution_count": null,
   "metadata": {},
   "outputs": [],
   "source": []
  }
 ],
 "metadata": {
  "kernelspec": {
   "display_name": "Python 3",
   "language": "python",
   "name": "python3"
  },
  "language_info": {
   "codemirror_mode": {
    "name": "ipython",
    "version": 3
   },
   "file_extension": ".py",
   "mimetype": "text/x-python",
   "name": "python",
   "nbconvert_exporter": "python",
   "pygments_lexer": "ipython3",
   "version": "3.8.3"
  }
 },
 "nbformat": 4,
 "nbformat_minor": 4
}
